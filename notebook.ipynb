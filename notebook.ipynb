{
 "cells": [
  {
   "cell_type": "markdown",
   "metadata": {},
   "source": [
    "# 20/10/2022"
   ]
  },
  {
   "cell_type": "markdown",
   "metadata": {},
   "source": [
    "- <b>Presentazione della tesi a gruppo di lavoro Triple</b> -> La presentazione si è prevalentemente concentrata su i vari steps che comporanno il lavoro dei prossimi mesi: sopratutto ci si è concentrati sulla parte della definizione dell'ontologia e della metodologia adottata (SAMOD). Alla fine della presentazione il materiale è stato lasciato in consegna al gruppo di ricerca anche le reference al paper di SAMOD.\n",
    "\n",
    "link alla presentazione: https://docs.google.com/presentation/d/1zvAtLRs9V1FCIdmFQz0-zJFsD-hxC8Dm_zXTu98TC3Q/edit"
   ]
  },
  {
   "cell_type": "markdown",
   "metadata": {},
   "source": [
    "# 24/10/2022"
   ]
  },
  {
   "cell_type": "markdown",
   "metadata": {},
   "source": [
    "Inizio analisi della documentazione invita da Luca De Santis:\n",
    "\n",
    "I documenti utili per l'elaborazione dell'ontologia sono i seguenti:\n",
    "\n",
    "* TRIPLE Data Model: il data model ripartito per le tre entities principali: document, profile e project.\n",
    "* D2.5 - Report on data enrichment: è un documento in cui sono presentati i sistemi di arricchimento e normalizzazione dei dati in input"
   ]
  },
  {
   "cell_type": "markdown",
   "metadata": {},
   "source": [
    "## Possibili scenari\n",
    "\n",
    "* Una parte centrale nel data model di Triple è l'aspetto della lingua. Sarebbe bene creare uno scenario di questo genere, dove la componene linguistica gioco un ruolo importante."
   ]
  },
  {
   "cell_type": "markdown",
   "metadata": {},
   "source": [
    "# 27/10/2022\n",
    "\n"
   ]
  },
  {
   "cell_type": "markdown",
   "metadata": {},
   "source": [
    "Domande incontro settimanale:\n",
    "\n",
    "* Una parte importante è nella delineazione di uno scenario. Quali sono i metodi per definirli? è una ricerca di puro buon senso? Oppure passa per casi d'uso già sperimentati?\n",
    "Sa se esiste qualche ricerca in merito?\n",
    "* Per prendere esempi su ontologie sviluppate su topic simili, quali sono le risorse migliori da consultare?\n",
    "* L'ontologia di base si sviluppa su tre entites fondamentali: profile, document e project. Non pare esista una connessione precisa tra queste tre entity. Quindi devo essere tutte connesse\n",
    "a un OWL:Thing oppure creo entity che rappresenta l'ecosistema di cui fanno parte, Triple? (Inizierò con il concentrarmi sul document, che sembra quello più prioritario)\n",
    "* Sarebbe bene fare un'analisi dei dati? Vedere come sono distribuiti per formulare ipotesi sui possibili scenari?\n",
    "* La metodologia è data-driven. Se in base dai dati mi sembra lecito aggiungere campi più specifici ha senso aggiungerli ? oppure se il model\n",
    "non prevede un'implementazione devo soprassedere?\n",
    "* Come devo pensare il mio lavoro dell'ontologia? Inserisco l'esistente in una struttura documentata e testata tramite query? Oppure devo\n",
    "approcciarmi anche in un ottica di estensione dell'idea iniziale?\n",
    "* Per creare L'ABox è bene creare un qualche script python con ad esempio RDFlib?\n",
    "* Nel diaro di bordo c'è una struttura che è preferibile, oppure è accettabile divisa per date?\n",
    "* Triple applica dei sistemi di normalizzazione e arricchimento dei dati. Va specificato nella costruzione dell'ontologia?\n",
    "\n",
    "Link utili:\n",
    "\n",
    "* https://github.com/essepuntato/undo\n",
    "* https://unsceb-hlcm.github.io/onto-undo/"
   ]
  },
  {
   "cell_type": "markdown",
   "metadata": {},
   "source": [
    "# 09/11/2022\n",
    "\n"
   ]
  },
  {
   "cell_type": "markdown",
   "metadata": {},
   "source": [
    "Riassunto primo incontro con il Domain Expert:\n",
    "\n",
    "* Luca si è proposto come punto di riferimento nella fase di design thinking. L'altra risorsa utile per organizzare il lavoro presso Net7 è Danilo, backend developer di Triple. Luca ha consigliato di dialogarci una volta completata la parte del modello, in quanto è più preparato sulla parte dell'API.\n",
    "\n",
    "* C'è una connessione tra le tre entità principali (documento, progetto, profilo)?\n",
    "    * Nell'indice per ogni pubblicazione c'è l'id degli autori e l'id delle pubblicazioni degli autori. Questo è utile per disambiguare nome di autori in sovrapposizione (es. due Luca Rossi, ma attivi in periodi storici diversi).\n",
    "    * Quello che Luca consiglia è di iniziare considerando le tre entità distinte. Poi una volta descritte nel dettaglio queste entities, si passerà alla creazione di qualche relazione tra di esse.\n",
    "* https://api.gotriple.eu/: si può utilizzare il mapping delle API per ottenere dei dati utili alla realizzazione del dataset di triple. Inoltre, è stato appena rilasciato l'ulimo deliverable sullo stato di sviluppo dell'API.\n",
    "* Luca suggerisce di partire da document con un piccolo numero di campi essenziali, operazione che richiede già un qualche attenzione:\n",
    "    * <b>Language</b> & <b>abstract</b>: \n",
    "        * nel campo original_lang viene riempito in base alla presenza o meno di un codice lingua nell'xml file caricato sul portale.\n",
    "        * c'è un servizio interno a Triple che si occupa in automatico di scoprire il linguaggio del testo in entrata. Il campo di riferimento è <i>detected_lang</i>\n",
    "    * <b>author</b>:\n",
    "        * Luca suggerisce di occuparcene per ultimo in quanto serve fare un linking con il profilo degli indici\n",
    "        * inoltre spesso non si tratta di autori veri e propri: possono essere anche organizzazioni, università, consorzi di progetto, entità giuridiche, etc...\n",
    "        * per l'autore, come per altri campi, sono stati introdotti dei processi di normalizzazione. Un autore può presentarsi in varie modalità (nickname, cognome e nome, cognome, abbrevazioni\n",
    "        traslitterazione)\n",
    "    * <b>document</b>:\n",
    "        * l'id è il campo principale per identificare il document. Però non è l'unico identificatore in Triple: molti sono stati ereditati durante la fase di harvesting (raccolta)\n",
    "    * <b>keywords</b>:\n",
    "        * campo abbastanza particolare in quanto indica tutte le keyword che sono state accettate e tutte quelle che, in fase di integrazione in Triple, sono state scartate\n",
    "* Ogni argomento che ha un processo di normalizzazione, secondo Luca, necessita uno scenario a parte."
   ]
  },
  {
   "cell_type": "markdown",
   "metadata": {},
   "source": [
    "Proposte di scenari:\n",
    "* il document con i campi essenziali con cui si rappresenta\n",
    "* language e come viene rappresentata la lingua dentro al sistema\n",
    "* author e tutti gli elementi che permettono la disambiguazione, tra cui la connessione con l'altra big entity (profile)\n",
    "* profile\n",
    "* project\n",
    "* Gestione delle keywords\n",
    "* rappresentazione degli scarti e dei dati ritenuti utili ai fini della rappresentazione delle risorse\n"
   ]
  },
  {
   "cell_type": "markdown",
   "metadata": {
    "vscode": {
     "languageId": "plaintext"
    }
   },
   "source": []
  }
 ],
 "metadata": {
  "language_info": {
   "name": "python"
  },
  "orig_nbformat": 4
 },
 "nbformat": 4,
 "nbformat_minor": 2
}
