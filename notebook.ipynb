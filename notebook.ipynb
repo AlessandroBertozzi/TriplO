{
 "cells": [
  {
   "cell_type": "markdown",
   "metadata": {},
   "source": [
    "# 20/10/2022"
   ]
  },
  {
   "cell_type": "markdown",
   "metadata": {},
   "source": [
    "- <b>Presentazione della tesi a gruppo di lavoro Triple</b> -> La presentazione si è prevalentemente concentrata su i vari steps che comporanno il lavoro dei prossimi mesi: sopratutto ci si è concentrati sulla parte della definizione dell'ontologia e della metodologia adottata (SAMOD). Alla fine della presentazione il materiale è stato lasciato in consegna al gruppo di ricerca anche le reference al paper di SAMOD.\n",
    "\n",
    "link alla presentazione: https://docs.google.com/presentation/d/1zvAtLRs9V1FCIdmFQz0-zJFsD-hxC8Dm_zXTu98TC3Q/edit"
   ]
  },
  {
   "cell_type": "markdown",
   "metadata": {},
   "source": [
    "# 24/10/2022"
   ]
  },
  {
   "cell_type": "markdown",
   "metadata": {},
   "source": [
    "Inizio analisi della documentazione invita da Luca De Santis:\n",
    "\n",
    "I documenti utili per l'elaborazione dell'ontologia sono i seguenti:\n",
    "\n",
    "* TRIPLE Data Model: il data model ripartito per le tre entities principali: document, profile e project.\n",
    "* D2.5 - Report on data enrichment: è un documento in cui sono presentati i sistemi di arricchimento e normalizzazione dei dati in input"
   ]
  },
  {
   "cell_type": "markdown",
   "metadata": {},
   "source": [
    "## Possibili scenari\n",
    "\n",
    "* Una parte centrale nel data model di Triple è l'aspetto della lingua. Sarebbe bene creare uno scenario di questo genere, dove la componene linguistica gioco un ruolo importante."
   ]
  },
  {
   "cell_type": "markdown",
   "metadata": {},
   "source": [
    "# 27/10/2022\n",
    "\n"
   ]
  },
  {
   "cell_type": "markdown",
   "metadata": {},
   "source": [
    "Domande incontro settimanale:\n",
    "\n",
    "* Una parte importante è nella delineazione di uno scenario. Quali sono i metodi per definirli? è una ricerca di puro buon senso? Oppure passa per casi d'uso già sperimentati?\n",
    "Sa se esiste qualche ricerca in merito?\n",
    "* Per prendere esempi su ontologie sviluppate su topic simili, quali sono le risorse migliori da consultare?\n",
    "* L'ontologia di base si sviluppa su tre entites fondamentali: profile, document e project. Non pare esista una connessione precisa tra queste tre entity. Quindi devo essere tutte connesse\n",
    "a un OWL:Thing oppure creo entity che rappresenta l'ecosistema di cui fanno parte, Triple? (Inizierò con il concentrarmi sul document, che sembra quello più prioritario)\n",
    "* Sarebbe bene fare un'analisi dei dati? Vedere come sono distribuiti per formulare ipotesi sui possibili scenari?\n",
    "* La metodologia è data-driven. Se in base dai dati mi sembra lecito aggiungere campi più specifici ha senso aggiungerli ? oppure se il model\n",
    "non prevede un'implementazione devo soprassedere?\n",
    "* Come devo pensare il mio lavoro dell'ontologia? Inserisco l'esistente in una struttura documentata e testata tramite query? Oppure devo\n",
    "approcciarmi anche in un ottica di estensione dell'idea iniziale?\n",
    "* Per creare L'ABox è bene creare un qualche script python con ad esempio RDFlib?\n",
    "* Nel diaro di bordo c'è una struttura che è preferibile, oppure è accettabile divisa per date?\n",
    "* Triple applica dei sistemi di normalizzazione e arricchimento dei dati. Va specificato nella costruzione dell'ontologia?Domande incontro settimanale:"
   ]
  }
 ],
 "metadata": {
  "language_info": {
   "name": "python"
  },
  "orig_nbformat": 4
 },
 "nbformat": 4,
 "nbformat_minor": 2
}
