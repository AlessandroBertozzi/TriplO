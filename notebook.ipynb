{
 "cells": [
  {
   "cell_type": "markdown",
   "metadata": {},
   "source": [
    "# 20/10/2022"
   ]
  },
  {
   "cell_type": "markdown",
   "metadata": {},
   "source": [
    "- <b>Presentazione della tesi a gruppo di lavoro Triple</b> -> La presentazione si è prevalentemente concentrata su i vari steps che comporanno il lavoro dei prossimi mesi: sopratutto ci si è concentrati sulla parte della definizione dell'ontologia e della metodologia adottata (SAMOD). Alla fine della presentazione il materiale è stato lasciato in consegna al gruppo di ricerca anche le reference al paper di SAMOD.\n",
    "\n",
    "link alla presentazione: https://docs.google.com/presentation/d/1zvAtLRs9V1FCIdmFQz0-zJFsD-hxC8Dm_zXTu98TC3Q/edit"
   ]
  },
  {
   "cell_type": "markdown",
   "metadata": {},
   "source": [
    "# 24/10/2022"
   ]
  },
  {
   "cell_type": "markdown",
   "metadata": {},
   "source": [
    "Inizio analisi della documentazione invita da Luca De Santis:\n",
    "\n",
    "I documenti utili per l'elaborazione dell'ontologia sono i seguenti:\n",
    "\n",
    "* TRIPLE Data Model: il data model ripartito per le tre entities principali: document, profile e project.\n",
    "* D2.5 - Report on data enrichment: è un documento in cui sono presentati i sistemi di arricchimento e normalizzazione dei dati in input"
   ]
  },
  {
   "cell_type": "markdown",
   "metadata": {},
   "source": [
    "## Possibili scenari\n",
    "\n",
    "* Una parte centrale nel data model di Triple è l'aspetto della lingua. Sarebbe bene creare uno scenario di questo genere, dove la componene linguistica gioco un ruolo importante."
   ]
  },
  {
   "cell_type": "markdown",
   "metadata": {},
   "source": [
    "# 27/10/2022\n",
    "\n"
   ]
  },
  {
   "cell_type": "markdown",
   "metadata": {},
   "source": [
    "Domande incontro settimanale:\n",
    "\n",
    "* Una parte importante è nella delineazione di uno scenario. Quali sono i metodi per definirli? è una ricerca di puro buon senso? Oppure passa per casi d'uso già sperimentati?\n",
    "Sa se esiste qualche ricerca in merito?\n",
    "* Per prendere esempi su ontologie sviluppate su topic simili, quali sono le risorse migliori da consultare?\n",
    "* L'ontologia di base si sviluppa su tre entites fondamentali: profile, document e project. Non pare esista una connessione precisa tra queste tre entity. Quindi devo essere tutte connesse\n",
    "a un OWL:Thing oppure creo entity che rappresenta l'ecosistema di cui fanno parte, Triple? (Inizierò con il concentrarmi sul document, che sembra quello più prioritario)\n",
    "* Sarebbe bene fare un'analisi dei dati? Vedere come sono distribuiti per formulare ipotesi sui possibili scenari?\n",
    "* La metodologia è data-driven. Se in base dai dati mi sembra lecito aggiungere campi più specifici ha senso aggiungerli ? oppure se il model\n",
    "non prevede un'implementazione devo soprassedere?\n",
    "* Come devo pensare il mio lavoro dell'ontologia? Inserisco l'esistente in una struttura documentata e testata tramite query? Oppure devo\n",
    "approcciarmi anche in un ottica di estensione dell'idea iniziale?\n",
    "* Per creare L'ABox è bene creare un qualche script python con ad esempio RDFlib?\n",
    "* Nel diaro di bordo c'è una struttura che è preferibile, oppure è accettabile divisa per date?\n",
    "* Triple applica dei sistemi di normalizzazione e arricchimento dei dati. Va specificato nella costruzione dell'ontologia?\n",
    "\n",
    "Link utili:\n",
    "\n",
    "* https://github.com/essepuntato/undo\n",
    "* https://unsceb-hlcm.github.io/onto-undo/"
   ]
  },
  {
   "cell_type": "markdown",
   "metadata": {},
   "source": [
    "# 09/11/2022\n",
    "\n"
   ]
  },
  {
   "cell_type": "markdown",
   "metadata": {},
   "source": [
    "Riassunto primo incontro con il Domain Expert:\n",
    "\n",
    "* Luca si è proposto come punto di riferimento nella fase di design thinking. L'altra risorsa utile per organizzare il lavoro presso Net7 è Danilo, backend developer di Triple. Luca ha consigliato di dialogarci una volta completata la parte del modello, in quanto è più preparato sulla parte dell'API.\n",
    "\n",
    "* C'è una connessione tra le tre entità principali (documento, progetto, profilo)?\n",
    "    * Nell'indice per ogni pubblicazione c'è l'id degli autori e l'id delle pubblicazioni degli autori. Questo è utile per disambiguare nome di autori in sovrapposizione (es. due Luca Rossi, ma attivi in periodi storici diversi).\n",
    "    * Quello che Luca consiglia è di iniziare considerando le tre entità distinte. Poi una volta descritte nel dettaglio queste entities, si passerà alla creazione di qualche relazione tra di esse.\n",
    "* https://api.gotriple.eu/: si può utilizzare il mapping delle API per ottenere dei dati utili alla realizzazione del dataset di triple. Inoltre, è stato appena rilasciato l'ulimo deliverable sullo stato di sviluppo dell'API.\n",
    "* Luca suggerisce di partire da document con un piccolo numero di campi essenziali, operazione che richiede già un qualche attenzione:\n",
    "    * <b>Language</b> & <b>abstract</b>: \n",
    "        * nel campo original_lang viene riempito in base alla presenza o meno di un codice lingua nell'xml file caricato sul portale.\n",
    "        * c'è un servizio interno a Triple che si occupa in automatico di scoprire il linguaggio del testo in entrata. Il campo di riferimento è <i>detected_lang</i>\n",
    "    * <b>author</b>:\n",
    "        * Luca suggerisce di occuparcene per ultimo in quanto serve fare un linking con il profilo degli indici\n",
    "        * inoltre spesso non si tratta di autori veri e propri: possono essere anche organizzazioni, università, consorzi di progetto, entità giuridiche, etc...\n",
    "        * per l'autore, come per altri campi, sono stati introdotti dei processi di normalizzazione. Un autore può presentarsi in varie modalità (nickname, cognome e nome, cognome, abbrevazioni\n",
    "        traslitterazione)\n",
    "    * <b>document</b>:\n",
    "        * l'id è il campo principale per identificare il document. Però non è l'unico identificatore in Triple: molti sono stati ereditati durante la fase di harvesting (raccolta)\n",
    "    * <b>keywords</b>:\n",
    "        * campo abbastanza particolare in quanto indica tutte le keyword che sono state accettate e tutte quelle che, in fase di integrazione in Triple, sono state scartate\n",
    "* Ogni argomento che ha un processo di normalizzazione, secondo Luca, necessita uno scenario a parte."
   ]
  },
  {
   "cell_type": "markdown",
   "metadata": {},
   "source": [
    "Proposte di scenari:\n",
    "* il document con i campi essenziali con cui si rappresenta\n",
    "    * identifer. Triple utilizza vari campi per identificare un documento, sopratutto a causa del processo di import di documenti da altri sistemi che hanno inevitabilmente una struttura dati diversa.\n",
    "    * auhtor, contributor\n",
    "    * document type\n",
    "* language e come viene rappresentata la lingua dentro al sistema\n",
    "* author e tutti gli elementi che permettono la disambiguazione, tra cui la connessione con l'altra big entity (profile)\n",
    "* profile\n",
    "* project\n",
    "* Gestione delle keywords\n",
    "* rappresentazione degli scarti e dei dati ritenuti utili ai fini della rappresentazione delle risorse\n"
   ]
  },
  {
   "cell_type": "markdown",
   "metadata": {
    "vscode": {
     "languageId": "plaintext"
    }
   },
   "source": [
    "Domande incontro settimanale:\n",
    "* Domande spcifiche Triple:\n",
    "    * OWL e Protègè: è utile creare un modello e popolarlo direttamente in OWL tramite l'ausilio dell'editor?\n",
    "    * Durante la conferenza di Data History era stato presentato un paper a proposito della modelizzazione delle varie versione dei record dentro a OpenCitations. Potrebbe essere applicata la stessa idea di modelizzazione per la rappresentazione degli scarti dentro a Triple?\n",
    "    * Ho qualche dubbio sull'utilizzo di OWL:Thing. Serve per rimandare a una entity generica esterna che al momento non è stato inclusa nel mio modello?\n",
    "    * differenze sostanziali tra definire un has_part e subclass?\n",
    "    * piccola domanda sul progetto delle Nazioni Unite. Non ho capito perchè il document è una sotto classe di Reference...\n",
    "    * il mapping delle risorse raccolte potrebbe essere modelizzato secondo un'ontologia? Però forse sarebbe esterno allo scopo del Data Model stesso...\n",
    "        * Magari se c'è questa esigenza ci si può concentrare su questo aspetto in un secondo momento\n",
    "    * le dimensioni della run quanto devono essere grandi?\n",
    "    * nel document abbiamo vari 'formati' di alcuni campi. è bene fare una run per ognuno?\n",
    "    * nel file excel abbiamo varie colonne (format, status): è bene integrarlo nel data model? Mi immagino in futuro per esempio la status può essere un buon modo per tracciare le modifiche del data model e quindi tracciare quali campi esistono in documenti solo prima di una certa data\n",
    "    * Devo badare alla grandezza del model che vado a creare ?\n",
    "    * Quando definisco una classe di intermezzo (classe middleware) come per esempio (journal) è un buon approccio?\n",
    "    * Per esempio questo come si può risolvere a livello di modelizzazione?\n",
    "    <img src='example.png'>\n",
    "* Domande generiche:\n",
    "    * piccolo dubbio sui LOD. Per interagire con DB di triple c'è sempre bisogno di un endpoint. In questo senso a livello tecnico come viene resa possibile la connessione delle risorse attraverso un meccanismo come owl:sameAs per esempio? è una connessione effettiva, che ti consente il fetch dei dati, oppure è piuttosto un identifer che ti permette poi in un secondo momento il merge dei dati? E se è così ci sono degli standard minimi per rendere \"linked\" le tue risorse?\n"
   ]
  },
  {
   "cell_type": "markdown",
   "metadata": {},
   "source": [
    "## First Scenario"
   ]
  },
  {
   "cell_type": "markdown",
   "metadata": {},
   "source": [
    "# Iteration 1: motivating scenario\n",
    "\n",
    "## Name\n",
    "\n",
    "Relations between document and essential metadata\n",
    "\n",
    "\n",
    "## Description\n",
    "\n",
    "The documents within Triple contain numerous fields. Some can be considered basic fields, essential for simple queries. They can be distinguished between:\n",
    "\n",
    "1. Technical fields, which are assigned to the document before the harvesting procedure or after the insertion in the Triple\n",
    "infrastructure. Their implementation enables to identify uniquely the document inside the Triple infrastructure;\n",
    "2. Person fields, which enables the identification of persons correlated to the document entity;\n",
    "3. Content fields, which describes the content of the document entity;\n",
    "4. Temporal fields, which enable to search document using temporal entities;\n",
    "\n",
    "\n",
    "## Example 1\n",
    "\n",
    "A document inside the Triple db is decribed by an identifer that can be used for retrieve the document and distinguish it to the other one.\n",
    "\n",
    "## Example 2\n",
    "\n",
    "A document inside the Triple db is decribed by identifers inherited from the previous platform where it was taken.\n",
    "\n",
    "## Example 3\n",
    "\n",
    "A document inside the Triple db can be described by temporal entities (like creation data and pubblication data)\n",
    "\n",
    "## Example 4\n",
    "\n",
    "A document inside the Triple db can be described by Person entities (like creation author and contributor)\n",
    "\n",
    "## Example 5\n",
    "\n",
    "A document inside the Triple db can be described by Content entities (like the title and the abstract)\n",
    "\n"
   ]
  },
  {
   "cell_type": "markdown",
   "metadata": {},
   "source": [
    "# Iteration 1: informal competency questions\n",
    "\n",
    "## Question 1 \t\n",
    "\n",
    "What are the Person linked to a specific document ?\n",
    "\n",
    "### Outcome \n",
    "\n",
    "The class Person\n",
    "\n",
    "### Example \t\n",
    "\n",
    "//\n",
    "\n",
    "## Question 2\n",
    "\n",
    "What are the documents correlated to temporal entity ?\n",
    "\n",
    "### Outcome\n",
    "\n",
    "A list of documents correlated to temporal entities\n",
    "\n",
    "### Example\n",
    "\n",
    "//"
   ]
  },
  {
   "cell_type": "markdown",
   "metadata": {},
   "source": []
  },
  {
   "cell_type": "markdown",
   "metadata": {},
   "source": [
    "### Iteration 1: Glossary of terms\n",
    "\n"
   ]
  }
 ],
 "metadata": {
  "language_info": {
   "name": "python"
  },
  "orig_nbformat": 4
 },
 "nbformat": 4,
 "nbformat_minor": 2
}
